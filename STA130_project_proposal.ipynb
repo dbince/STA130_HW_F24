{
 "cells": [
  {
   "cell_type": "markdown",
   "id": "5986a48d",
   "metadata": {},
   "source": [
    "**Research Question 1: What is the association between social connection scores and well-being levels?**"
   ]
  },
  {
   "cell_type": "markdown",
   "id": "1ae86ff2",
   "metadata": {},
   "source": [
    "**Variables**\n",
    "    \n",
    "Social Connection Variables:\n",
    "\n",
    "CONNECTION_social_num_close_friends_grouped: This variable captures the count of close friendships, an essential factor in one’s social network.\n",
    "\n",
    "CONNECTION_social_time_family_p7d_grouped: Total hours spent with family in the past week. Time spent with family is a key component of social connection and can influence emotional well-being.\n",
    "\n",
    "Well-being Variables:\n",
    "\n",
    "WELLNESS_subjective_happiness_scale_happy: Self-assessment of overall happiness. This is a direct measure of how participants view their happiness levels, making it a critical variable for this analysis.\n",
    "\n",
    "WELLNESS_life_satisfaction: Life satisfaction rating (typically on a scale of 1 to 10). Life satisfaction is closely linked to happiness and can provide insights into the general well-being of individuals."
   ]
  },
  {
   "cell_type": "markdown",
   "id": "eda2e5dc",
   "metadata": {},
   "source": [
    "**Visualization**\n",
    "\n",
    "Scatter Plots: Create scatter plots of variable CONNECTION_social_num_close_friends_grouped vs. WELLNESS_subjective_happiness_scale_happy to visually inspect linear relationships between social connection and happiness.\n",
    "\n",
    "Box Plots: Use box plots to display variations in WELLNESS_life_satisfaction across different levels of CONNECTION_social_days_friends_p7d_grouped. Box plots can reveal patterns in life satisfaction based on social engagement frequency."
   ]
  },
  {
   "cell_type": "markdown",
   "id": "d1f6ada9",
   "metadata": {},
   "source": [
    "**Analysis**\n",
    "\n",
    "To analyze the link between social connection and happiness, I’ll use hypothesis testing to see if higher social connection levels are associated with higher happiness scores.\n",
    "\n",
    "1. Research Question and Hypotheses\n",
    "Research Question: Do people with stronger social connections report higher happiness?\n",
    "\n",
    "Null Hypothesis (H0): There is no relationship between social connection and happiness.\n",
    "\n",
    "Alternative Hypothesis (HA): Higher social connection scores are linked to higher happiness scores.\n",
    "\n",
    "2. Statistical Tests\n",
    "Correlation Test: Check if there’s a significant positive correlation between social connection and happiness.\n",
    "\n",
    "t-Test: Compare happiness scores between a \"high social connection\" group and a \"low social connection\" group to see if there’s a significant difference.\n",
    "\n",
    "Regression: Run a linear regression to see if social connection can predict happiness, controlling for other factors like age.\n",
    "\n",
    "3. Implementation\n",
    "Significance Level: Use a 0.05 significance level to determine if the results are statistically meaningful.\n",
    "\n",
    "Assumptions:\n",
    "For the t-test, assume happiness scores are normally distributed within each group and have similar variances.\n",
    "For regression, assume a linear relationship and check that predictors aren’t too similar.\n",
    "\n",
    "4. Interpreting Results\n",
    "Statistical Significance: If p-values are below 0.05, this suggests a positive link between social connection and happiness.\n",
    "\n",
    "Effect Size: This will show how strong the relationship is, providing practical context."
   ]
  },
  {
   "cell_type": "markdown",
   "id": "d3844ee8",
   "metadata": {},
   "source": [
    "**Hypothesis**\n",
    "\n",
    "If the analysis shows a significant positive correlation between social connection and happiness, it would indicate that stronger social ties are associated with higher happiness levels. This would support the idea that social connections play an essential role in individual well-being, aligning with the research question. This result could reinforce the importance of social connections for mental health interventions and public health policies focused on well-being.\n",
    "\n",
    "If no significant relationship is found between social connection and happiness, it would suggest that factors outside of social ties may have a more substantial impact on happiness. This outcome would challenge assumptions about the role of social connection in personal happiness, highlighting the complexity of happiness and suggesting a need to explore other contributing factors."
   ]
  },
  {
   "cell_type": "markdown",
   "id": "1fa3dea7",
   "metadata": {},
   "source": [
    "**Research Question 2: How does financial satisfaction and perceived financial security vary across different age groups?**"
   ]
  },
  {
   "cell_type": "markdown",
   "id": "5e19c1d6",
   "metadata": {},
   "source": [
    "**Variables**\n",
    "\n",
    "DEMO_age: Represents the age of the respondent, which will allow us to group or correlate financial perceptions across different age brackets.\n",
    "\n",
    "DEMO_employment: Employment status could provide insight into the financial stability of different age groups, as employment is often linked to financial resources.\n",
    "\n",
    "FINANCES_money_left_over: Indicates the amount of disposable income or financial cushion a respondent has after expenses. This variable could reveal how different age groups perceive their financial security.\n",
    "\n",
    "WORK_feel_paid_enough: Reflects respondents’ satisfaction with their compensation, providing a subjective measure of financial adequacy that might vary by age."
   ]
  },
  {
   "cell_type": "markdown",
   "id": "eb0d9f54",
   "metadata": {},
   "source": [
    "**Visualization**\n",
    "\n",
    "Box plot with FINANCES_money_left_over and WORK_feel_paid_enough, grouped by DEMO_age. Box plots allow us to visualize the distribution, median, and spread of financial satisfaction and security for different age groups. They can reveal age-based variations and help identify any outliers within age groups. Box plots are ideal for comparing distributions across categories (like age groups) and provide insights into the range of financial perceptions within each group.\n",
    "\n",
    "Bar chart of DEMO_employment across age groups. A bar chart displaying employment status by age groups will give a clear view of employment patterns across ages, which is relevant as employment status often impacts financial satisfaction. Bar charts make it easy to compare categorical data across groups and can highlight patterns in employment status, such as higher unemployment in younger or older groups."
   ]
  },
  {
   "cell_type": "markdown",
   "id": "1e6c930b",
   "metadata": {},
   "source": [
    "**Analysis**\n",
    "\n",
    "To answer this question, I will use linear regression analysis, which allows us to model the relationship between a continuous independent variable (age) and each dependent variable (financial security and satisfaction with pay). Linear regression is suitable here because we aim to quantify the strength and direction of the relationship between age and each outcome variable.\n",
    "\n",
    "Variables\n",
    "Independent Variable: Age (DEMO_age)\n",
    "Dependent Variables:\n",
    "Financial Security (FINANCES_money_left_over): Measures whether individuals have disposable income remaining after expenses.\n",
    "Pay Satisfaction (WORK_feel_paid_enough): Measures how adequately individuals feel compensated in their employment.\n",
    "\n",
    "Steps for the Analysis\n",
    "Data Preparation:\n",
    "Clean the data to handle any missing or outlier values in the variables of interest. Normalize or standardize the age variable if needed for better interpretability.\n",
    "\n",
    "Single Linear Regression:\n",
    "Model 1: Regress FINANCES_money_left_over on DEMO_age.\n",
    "Model 2: Regress WORK_feel_paid_enough on DEMO_age.\n",
    "\n",
    "This approach will provide two separate regression models, each exploring how age impacts one of the dependent variables. We will interpret the coefficients to see if age significantly predicts the financial security and pay satisfaction outcomes.\n",
    "\n",
    "Assumptions and Checks:\n",
    "Linearity: Assumes a linear relationship between age and each outcome variable.\n",
    "Independence: Assumes that each observation is independent of others.\n",
    "Homoscedasticity: Assumes that residuals have constant variance. I will check this using residual plots.\n",
    "Normality of Residuals: Assumes residuals are normally distributed, which will be verified using a histogram or Q-Q plot.\n",
    "\n",
    "Model Interpretation:\n",
    "Coefficient of Age: For each model, the age coefficient will indicate how much financial security or pay satisfaction changes per unit increase in age. A positive coefficient suggests an increase in the dependent variable with age, while a negative coefficient suggests a decrease.\n",
    "R² (Coefficient of Determination): Measures the proportion of variance in the outcome variable explained by age.\n",
    "Significance Testing:\n",
    "\n",
    "Perform a t-test on the regression coefficients to determine if the effect of age is statistically significant for each model. Use a significance level (e.g., α = 0.05) to test whether the relationship between age and each outcome is likely to be meaningful."
   ]
  },
  {
   "cell_type": "markdown",
   "id": "a7b65e91",
   "metadata": {},
   "source": [
    "**Hypothesis**\n",
    "\n",
    "For Financial Security (FINANCES_money_left_over):\n",
    "\n",
    "Hypothesis: As age increases, individuals are more likely to have disposable income left over after expenses. This hypothesis assumes that older individuals may have more financial stability or savings, allowing for greater financial security.\n",
    "Expected Result: A positive coefficient for age in the regression with FINANCES_money_left_over would support this hypothesis, suggesting that financial security increases with age.\n",
    "For Pay Satisfaction (WORK_feel_paid_enough):\n",
    "\n",
    "Hypothesis: Satisfaction with pay does not significantly change with age, as feelings of adequate compensation may depend more on other factors, such as job type or experience level, than age alone.\n",
    "Expected Result: A non-significant or close-to-zero coefficient for age in the regression with WORK_feel_paid_enough would support this hypothesis, indicating that age has minimal influence on perceived pay adequacy.\n",
    "\n",
    "Relevance to the Research Question\n",
    "\n",
    "If both hypotheses hold—with age positively related to financial security and not significantly related to pay satisfaction—it would suggest that while age may contribute to financial stability, it does not necessarily enhance an individual’s perception of pay adequacy. This could indicate that financial well-being is more directly related to cumulative experience, savings, or investments over time, while pay satisfaction might be influenced by other job-related factors.\n",
    "\n",
    "If contrary results occur, such as age having no effect on financial security or a strong effect on pay satisfaction, this would prompt a closer look at other demographic or employment variables that could drive these outcomes, reshaping our understanding of financial well-being across different ages.\n",
    "These hypothesized results, whether confirming or challenging initial assumptions, would help answer the research question by clarifying the specific role age plays in financial stability and satisfaction in the workforce."
   ]
  },
  {
   "cell_type": "markdown",
   "id": "6983bc8d",
   "metadata": {},
   "source": [
    "**Research Question 3: How has COVID-19 impacted levels of mental health, such as anxiety and depression, among participants?**"
   ]
  },
  {
   "cell_type": "markdown",
   "id": "06822847",
   "metadata": {},
   "source": [
    "**Variables**\n",
    "\n",
    "For this analysis, I plan to explore variables related to COVID-19 experiences and mental health outcomes, specifically focusing on:\n",
    "\n",
    "COVID_prevention_distancing: This variable represents participants' engagement in social distancing practices during the pandemic. Understanding how distancing behaviors impact mental health provides insight into how isolation or reduced social contact correlates with feelings of anxiety or depression.\n",
    "\n",
    "COVID_vaccinated: This variable indicates participants' vaccination status. Examining mental health outcomes in relation to vaccination status could highlight whether vaccinated individuals report better mental health due to perceived safety or lower anxiety levels about the virus.\n",
    "\n",
    "WELLNESS_gad_anxious: This variable measures levels of generalized anxiety, providing a direct view into participants' mental health regarding anxiety.\n",
    "\n",
    "WELLNESS_phq_feeling_down: This variable assesses levels of depression or feeling down, which offers a comprehensive understanding of depression levels as they relate to COVID-19 factors."
   ]
  },
  {
   "cell_type": "markdown",
   "id": "22be61b9",
   "metadata": {},
   "source": [
    "**Visualization**\n",
    "\n",
    "Histograms would show the distribution of anxiety and depression scores for different groups, such as vaccinated vs. unvaccinated participants or those who practiced social distancing vs. those who did not. Histograms or density plots can reveal the spread and skewness of mental health scores within each group, allowing us to visually assess whether one group tends to have higher or lower mental health scores.\n",
    "\n",
    "Box plots will be useful to compare the median, quartiles, and outliers of mental health scores across different groups. Box plots allow for easy comparison of central tendencies and variability, making it clear if one group (e.g., vaccinated) has significantly different mental health scores than another (e.g., unvaccinated). This visualization is compact and suitable for side-by-side comparisons of multiple groups."
   ]
  },
  {
   "cell_type": "markdown",
   "id": "5b0077c8",
   "metadata": {},
   "source": [
    "**Analysis**\n",
    "\n",
    "To analyze the relationship between COVID-19-related behaviors and mental health, I plan to use bootstrapping as the main method of analysis. This technique will allow us to estimate the variability and significance of the relationships between variables such as COVID prevention behaviors, vaccination status, and mental health outcomes (e.g., anxiety and depression scores), without relying on strict parametric assumptions. Bootstrapping will enable us to generate confidence intervals for these relationships, which can provide insight into whether the differences in mental health outcomes between groups are statistically significant.\n",
    "\n",
    "Analysis Steps\n",
    "Resampling: I will repeatedly sample from the dataset with replacement to create a large number of “bootstrapped” datasets. For each bootstrapped sample, I will calculate summary statistics (such as mean anxiety or depression scores) for different groups, like those who practiced distancing vs. those who did not, or vaccinated vs. unvaccinated participants.\n",
    "\n",
    "Estimate Confidence Intervals: For each group comparison, I will compute the difference in mean mental health scores (anxiety or depression) and generate confidence intervals for these differences based on the bootstrapped samples. This approach will provide a robust estimate of the average difference in mental health outcomes related to COVID behaviors.\n",
    "\n",
    "Hypothesis Testing: Using bootstrapping, I will determine if the differences observed in mental health outcomes between groups (e.g., vaccinated vs. unvaccinated) are statistically significant. If the bootstrapped confidence interval for the difference does not contain zero, we can infer that there is a significant difference in mental health outcomes between these groups.\n",
    "\n",
    "Assumptions\n",
    "Independence: We assume that each respondent’s mental health outcome is independent of others, meaning one participant’s response does not influence another’s.\n",
    "\n",
    "Random Sampling: Bootstrapping assumes the sample is representative of the population. In this case, we assume that the dataset accurately represents the range of COVID-19 experiences and mental health outcomes for the population of interest.\n",
    "\n",
    "Non-parametric Nature: Bootstrapping does not assume a specific distribution for the data, which makes it suitable for our analysis of mental health data, which may not follow a normal distribution.\n",
    "\n"
   ]
  },
  {
   "cell_type": "markdown",
   "id": "4474a60a",
   "metadata": {},
   "source": [
    "**Hypothesis**\n",
    "\n",
    "The hypothesized results of this analysis, which examines the relationship between COVID-19 safety behaviors (e.g., compliance with vaccination, mask-wearing, and social distancing) and reported levels of anxiety or depression, could provide valuable insights into whether these behaviors contribute to improved mental health. The chosen variables allow us to assess if individuals who engage in these COVID-19 safety measures report lower levels of anxiety and depression, which would suggest that compliance with health guidelines has a stabilizing or comforting effect during the pandemic.\n",
    "\n",
    "If the results align with the hypothesis (indicating that higher compliance correlates with lower anxiety or depression), it would reinforce the idea that these behaviors serve as protective mental health measures. This outcome would be highly relevant as it could support the notion that public health campaigns should emphasize not only the physical health benefits of COVID-19 safety measures but also their potential to alleviate pandemic-related stress and promote mental well-being.\n",
    "\n",
    "Alternatively, if no strong correlation is found, the analysis might suggest that factors beyond compliance with COVID-19 measures are more influential on mental health. This outcome would indicate the need to explore additional support systems targeting anxiety and depression, particularly in areas less influenced by health compliance behaviors. Such findings could guide mental health support efforts toward addressing broader psychological and social factors, such as coping strategies, community support, and other external stressors beyond individual health behaviors."
   ]
  },
  {
   "cell_type": "code",
   "execution_count": null,
   "id": "883ab55b",
   "metadata": {},
   "outputs": [],
   "source": []
  }
 ],
 "metadata": {
  "kernelspec": {
   "display_name": "Python 3 (ipykernel)",
   "language": "python",
   "name": "python3"
  },
  "language_info": {
   "codemirror_mode": {
    "name": "ipython",
    "version": 3
   },
   "file_extension": ".py",
   "mimetype": "text/x-python",
   "name": "python",
   "nbconvert_exporter": "python",
   "pygments_lexer": "ipython3",
   "version": "3.11.6"
  }
 },
 "nbformat": 4,
 "nbformat_minor": 5
}
