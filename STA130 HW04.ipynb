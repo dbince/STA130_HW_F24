{
 "cells": [
  {
   "cell_type": "markdown",
   "id": "ac77f815",
   "metadata": {},
   "source": [
    "Question 1:"
   ]
  },
  {
   "cell_type": "markdown",
   "id": "7a1ac334",
   "metadata": {},
   "source": [
    "The standard deviation is calculated using the datapoints from a single sample and finds the variance of the data from its mean. The standard error of the mean is the fluctuation of the mean if the samples were randomly selected from the initial sample. This means it is standard deviation of the means calculated using bootstrapping."
   ]
  },
  {
   "cell_type": "markdown",
   "id": "67209823",
   "metadata": {},
   "source": [
    "Question 6:\n",
    "1. Bootstrapping is done by taking an initial sample and creating thousands of resamples by randomly picking points of data from the initial sample. Then the mean of these samples are gathered and a confidence interval is created by finding where 95% of the means lie. This confidence interval shows where the mean is most likely to be if the tests were to be conducted again.\n",
    "\n",
    "2. The purpose of bootstrapping is to calculate the average mean of samples if they were to be tested without spending a lot of money and time on redoing the tests.\n",
    "\n",
    "3. First use bootstrapping to create thousands of resamples of the sample n. Then calculate the means of the resamples and plot them on a histogram. Using this distribution calculate the confidence interval which contains 95% of the means in the distribution. If the guess lies within the confidence interval, then it is a plausible hypothesis."
   ]
  },
  {
   "cell_type": "markdown",
   "id": "af1f1b78",
   "metadata": {},
   "source": [
    "Question 8"
   ]
  },
  {
   "cell_type": "markdown",
   "id": "cd4cd001",
   "metadata": {},
   "source": [
    "Problem Introduction:\n",
    "The problem is to find if a new vaccine is effectively increasing patients health using data released by AliTech.\n",
    "\n",
    "Null Hypothesis:\n",
    "A null hypothesis of \"no effect\" in this case would mean that the vaccine had no significant effect on the patients health."
   ]
  },
  {
   "cell_type": "code",
   "execution_count": 4,
   "id": "fb225433",
   "metadata": {},
   "outputs": [
    {
     "data": {
      "image/png": "[encoded data removed]",
      "text/plain": [
       "<Figure size 800x600 with 1 Axes>"
      ]
     },
     "metadata": {},
     "output_type": "display_data"
    }
   ],
   "source": [
    "import pandas as pd\n",
    "import matplotlib.pyplot as plt\n",
    "\n",
    "# Data\n",
    "data_dict = {\n",
    "    \"PatientID\": [1, 2, 3, 4, 5, 6, 7, 8, 9, 10],\n",
    "    \"Age\": [45, 34, 29, 52, 37, 41, 33, 48, 26, 39],\n",
    "    \"Gender\": ['M', 'F', 'M', 'F', 'M', 'F', 'M', 'F', 'M', 'F'],\n",
    "    \"InitialHealthScore\": [84, 78, 83, 81, 81, 80, 79, 85, 76, 83],\n",
    "    \"FinalHealthScore\": [86, 86, 80, 86, 84, 86, 86, 82, 83, 84]\n",
    "}\n",
    "\n",
    "# Create DataFrame\n",
    "data = pd.DataFrame(data_dict)\n",
    "\n",
    "# Box plot of Initial and Final Health Scores\n",
    "plt.figure(figsize=(8, 6))\n",
    "plt.boxplot([data['InitialHealthScore'], data['FinalHealthScore']], labels=['Initial Health Score', 'Final Health Score'])\n",
    "\n",
    "# Add title and labels\n",
    "plt.title('Box Plot of Initial and Final Health Scores')\n",
    "plt.ylabel('Health Score')\n",
    "plt.grid(True)\n",
    "\n",
    "# Display plot\n",
    "plt.show()\n"
   ]
  },
  {
   "cell_type": "code",
   "execution_count": 6,
   "id": "7cb7dde9",
   "metadata": {},
   "outputs": [
    {
     "data": {
      "text/html": [
       "<div>\n",
       "<style scoped>\n",
       "    .dataframe tbody tr th:only-of-type {\n",
       "        vertical-align: middle;\n",
       "    }\n",
       "\n",
       "    .dataframe tbody tr th {\n",
       "        vertical-align: top;\n",
       "    }\n",
       "\n",
       "    .dataframe thead th {\n",
       "        text-align: right;\n",
       "    }\n",
       "</style>\n",
       "<table border=\"1\" class=\"dataframe\">\n",
       "  <thead>\n",
       "    <tr style=\"text-align: right;\">\n",
       "      <th></th>\n",
       "      <th>PatientID</th>\n",
       "      <th>Age</th>\n",
       "      <th>Gender</th>\n",
       "      <th>InitialHealthScore</th>\n",
       "      <th>FinalHealthScore</th>\n",
       "    </tr>\n",
       "  </thead>\n",
       "  <tbody>\n",
       "    <tr>\n",
       "      <th>0</th>\n",
       "      <td>1</td>\n",
       "      <td>45</td>\n",
       "      <td>M</td>\n",
       "      <td>84</td>\n",
       "      <td>86</td>\n",
       "    </tr>\n",
       "    <tr>\n",
       "      <th>1</th>\n",
       "      <td>2</td>\n",
       "      <td>34</td>\n",
       "      <td>F</td>\n",
       "      <td>78</td>\n",
       "      <td>86</td>\n",
       "    </tr>\n",
       "    <tr>\n",
       "      <th>2</th>\n",
       "      <td>3</td>\n",
       "      <td>29</td>\n",
       "      <td>M</td>\n",
       "      <td>83</td>\n",
       "      <td>80</td>\n",
       "    </tr>\n",
       "    <tr>\n",
       "      <th>3</th>\n",
       "      <td>4</td>\n",
       "      <td>52</td>\n",
       "      <td>F</td>\n",
       "      <td>81</td>\n",
       "      <td>86</td>\n",
       "    </tr>\n",
       "    <tr>\n",
       "      <th>4</th>\n",
       "      <td>5</td>\n",
       "      <td>37</td>\n",
       "      <td>M</td>\n",
       "      <td>81</td>\n",
       "      <td>84</td>\n",
       "    </tr>\n",
       "  </tbody>\n",
       "</table>\n",
       "</div>"
      ],
      "text/plain": [
       "   PatientID  Age Gender  InitialHealthScore  FinalHealthScore\n",
       "0          1   45      M                  84                86\n",
       "1          2   34      F                  78                86\n",
       "2          3   29      M                  83                80\n",
       "3          4   52      F                  81                86\n",
       "4          5   37      M                  81                84"
      ]
     },
     "execution_count": 6,
     "metadata": {},
     "output_type": "execute_result"
    }
   ],
   "source": [
    "import pandas as pd\n",
    "\n",
    "# Create the vaccine data as a DataFrame\n",
    "data_dict = {\n",
    "    \"PatientID\": [1, 2, 3, 4, 5, 6, 7, 8, 9, 10],\n",
    "    \"Age\": [45, 34, 29, 52, 37, 41, 33, 48, 26, 39],\n",
    "    \"Gender\": ['M', 'F', 'M', 'F', 'M', 'F', 'M', 'F', 'M', 'F'],\n",
    "    \"InitialHealthScore\": [84, 78, 83, 81, 81, 80, 79, 85, 76, 83],\n",
    "    \"FinalHealthScore\": [86, 86, 80, 86, 84, 86, 86, 82, 83, 84]\n",
    "}\n",
    "\n",
    "# Convert to a DataFrame\n",
    "data = pd.DataFrame(data_dict)\n",
    "\n",
    "# Save the data to a CSV file (write mode)\n",
    "data.to_csv(\"vaccine_data.csv\", index=False)\n",
    "\n",
    "# Now read the CSV file\n",
    "data = pd.read_csv(\"vaccine_data.csv\")\n",
    "\n",
    "# Show the DataFrame\n",
    "data.head()\n"
   ]
  },
  {
   "cell_type": "code",
   "execution_count": 12,
   "id": "7daba47c",
   "metadata": {},
   "outputs": [
    {
     "data": {
      "image/png": "[encoded data removed]",
      "text/plain": [
       "<Figure size 640x480 with 1 Axes>"
      ]
     },
     "metadata": {},
     "output_type": "display_data"
    },
    {
     "name": "stdout",
     "output_type": "stream",
     "text": [
      "95% Confidence Interval: [0.7 5.5]\n"
     ]
    }
   ],
   "source": [
    "import numpy as np\n",
    "import pandas as pd\n",
    "import matplotlib.pyplot as plt\n",
    "\n",
    "# Set seed for reproducibility\n",
    "np.random.seed(42)\n",
    "\n",
    "# Load the data\n",
    "data = pd.read_csv(\"vaccine_data.csv\")\n",
    "\n",
    "# Calculate differences between Final and Initial Health Scores\n",
    "data['HealthScoreDifference'] = data['FinalHealthScore'] - data['InitialHealthScore']\n",
    "\n",
    "# Bootstrapping function\n",
    "def bootstrap_mean(data, n_resamples=1000):\n",
    "    means = []\n",
    "    for _ in range(n_resamples):\n",
    "        resample = np.random.choice(data, size=len(data), replace=True)\n",
    "        means.append(np.mean(resample))\n",
    "    return np.array(means)\n",
    "\n",
    "# Perform bootstrapping on the Health Score differences\n",
    "bootstrapped_means = bootstrap_mean(data['HealthScoreDifference'])\n",
    "\n",
    "# Calculate 95% confidence interval\n",
    "conf_interval = np.percentile(bootstrapped_means, [2.5, 97.5])\n",
    "\n",
    "# Visualization of bootstrapped means\n",
    "plt.hist(bootstrapped_means, bins=30, edgecolor='k', alpha=0.7)\n",
    "plt.axvline(conf_interval[0], color='red', linestyle='dashed', linewidth=1)\n",
    "plt.axvline(conf_interval[1], color='red', linestyle='dashed', linewidth=1)\n",
    "plt.title('Bootstrapped Mean Differences')\n",
    "plt.xlabel('Mean Difference')\n",
    "plt.ylabel('Frequency')\n",
    "plt.show()\n",
    "\n",
    "print(f\"95% Confidence Interval: {conf_interval}\")\n"
   ]
  },
  {
   "cell_type": "markdown",
   "id": "941ff8d8",
   "metadata": {},
   "source": [
    "Conclusion:\n",
    "The confidence interval for the sample is 0.7 to 5.5 which does not include 0 which means that the vaccine did not have a null result of \"no result\" and on average ended up increasing the patients health. "
   ]
  },
  {
   "cell_type": "markdown",
   "id": "9f233be0",
   "metadata": {},
   "source": [
    "Further Consideration:\n",
    "Further tests could be done using bootstrapping to find if thye vaccine had different effects on subgroups such as age or gender."
   ]
  },
  {
   "cell_type": "markdown",
   "id": "526ce864",
   "metadata": {},
   "source": [
    "Here's a summary of our conversation:\n",
    "\n",
    "Vaccine Data Analysis Assignment:\n",
    "\n",
    "You are working on a vaccine data analysis assignment for AliTech, focusing on whether their new vaccine is effective in improving health scores.\n",
    "The dataset includes columns for PatientID, Age, Gender, InitialHealthScore, and FinalHealthScore.\n",
    "Analysis Approach:\n",
    "\n",
    "I suggested a structured outline for your report, which includes sections on problem introduction, null hypothesis, data visualization, quantitative analysis using bootstrapping, findings, discussion, conclusion, and further considerations.\n",
    "You received a code example for bootstrapping the analysis, which involved calculating differences between initial and final health scores and constructing confidence intervals.\n",
    "Data Visualization:\n",
    "\n",
    "I created and presented a scatter plot comparing initial and final health scores and a box plot showing the distribution of these scores.\n",
    "You requested code to generate the box plot in JupyterHub, which I provided.\n",
    "File Handling Issue:\n",
    "\n",
    "You encountered a FileNotFoundError when trying to read a CSV file. I suggested creating the CSV file directly within the Jupyter notebook or working with the DataFrame without reading from a file.\n",
    "Next Steps:\n",
    "\n",
    "I offered assistance for any further analysis, visualization, or clarifications regarding your assignment.\n",
    "If you have any further questions or need additional assistance, feel free to ask!"
   ]
  },
  {
   "cell_type": "markdown",
   "id": "ba7c9702",
   "metadata": {},
   "source": [
    "https://chatgpt.com/share/66ff6dbd-794c-8004-aba8-dea05966fdd0"
   ]
  },
  {
   "cell_type": "code",
   "execution_count": null,
   "id": "49fd7d88",
   "metadata": {},
   "outputs": [],
   "source": []
  }
 ],
 "metadata": {
  "kernelspec": {
   "display_name": "Python 3 (ipykernel)",
   "language": "python",
   "name": "python3"
  },
  "language_info": {
   "codemirror_mode": {
    "name": "ipython",
    "version": 3
   },
   "file_extension": ".py",
   "mimetype": "text/x-python",
   "name": "python",
   "nbconvert_exporter": "python",
   "pygments_lexer": "ipython3",
   "version": "3.11.6"
  }
 },
 "nbformat": 4,
 "nbformat_minor": 5
}
