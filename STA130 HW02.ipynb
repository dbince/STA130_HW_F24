{
 "cells": [
  {
   "cell_type": "markdown",
   "id": "60bda313",
   "metadata": {},
   "source": [
    "Question 1"
   ]
  },
  {
   "cell_type": "markdown",
   "id": "76b58b5c",
   "metadata": {},
   "source": [
    "Complete"
   ]
  },
  {
   "cell_type": "markdown",
   "id": "e79f63f3",
   "metadata": {},
   "source": [
    "Question 2"
   ]
  },
  {
   "cell_type": "markdown",
   "id": "0445769e",
   "metadata": {},
   "source": [
    "I prefer the version by ChatGPT due to the use of list comprehensions which make the code much more straight forward and simpler to read. "
   ]
  },
  {
   "cell_type": "markdown",
   "id": "dddbb225",
   "metadata": {},
   "source": [
    "Question 3"
   ]
  },
  {
   "cell_type": "code",
   "execution_count": 3,
   "id": "04852635",
   "metadata": {},
   "outputs": [
    {
     "name": "stdout",
     "output_type": "stream",
     "text": [
      "Probability of winning by switching: 0.6674\n"
     ]
    }
   ],
   "source": [
    "import numpy as np\n",
    "\n",
    "# Define parameters\n",
    "all_door_options = [1, 2, 3]  # List of doors\n",
    "my_door_choice = 1  # Initial door choice\n",
    "reps = 100000  # Number of simulations\n",
    "i_won = 0  # Counter for wins\n",
    "\n",
    "for _ in range(reps):\n",
    "    # Randomly select the door with the prize\n",
    "    secret_winning_door = np.random.choice(all_door_options)\n",
    "    \n",
    "    # Determine the doors available for the host to reveal (i.e., doors that are not the prize door and not the chosen door)\n",
    "    remaining_doors = [door for door in all_door_options if door != my_door_choice and door != secret_winning_door]\n",
    "    \n",
    "    # Host reveals a goat door from the remaining doors\n",
    "    goat_door_reveal = np.random.choice(remaining_doors)\n",
    "    \n",
    "    # The remaining door after the reveal is the one to switch to\n",
    "    remaining_doors = [door for door in all_door_options if door != my_door_choice and door != goat_door_reveal]\n",
    "    new_door_choice = remaining_doors[0]\n",
    "    \n",
    "    # Update the door choice and check if it is the winning door\n",
    "    if new_door_choice == secret_winning_door:\n",
    "        i_won += 1\n",
    "\n",
    "# Calculate the probability of winning by switching\n",
    "probability_of_winning = i_won / reps\n",
    "print(f\"Probability of winning by switching: {probability_of_winning:.4f}\")\n"
   ]
  },
  {
   "cell_type": "markdown",
   "id": "4dc18b7e",
   "metadata": {},
   "source": [
    "Summary\n",
    "\n",
    "We discussed the Monty Hall problem and reviewed your simulation code written in Python. You explained how the code simulates the problem to estimate the probability of winning by switching doors. I provided an explanation of each step in your code, detailing how it tracks the secret winning door, reveals a goat, and checks for wins.\n",
    "\n",
    "Then, I suggested a streamlined and more understandable version of the simulation code, emphasizing clarity and simplicity while maintaining the same logic. This new version uses list comprehensions and includes comments for easier explanation. Finally, we highlighted the probability outcomes related to the switching strategy in the Monty Hall problem."
   ]
  },
  {
   "cell_type": "markdown",
   "id": "a12897e0",
   "metadata": {},
   "source": [
    "Question 4"
   ]
  },
  {
   "cell_type": "markdown",
   "id": "d83da139",
   "metadata": {},
   "source": [
    "Summary\n",
    "\n",
    "You shared a piece of code for a Markovian chatbot, which uses dictionaries to track word usage and transitions between words. I suggested improvements, including:\n",
    "\n",
    "Using defaultdict for cleaner word counting.\n",
    "Creating a function to sample the next word based on the transition probabilities.\n",
    "Adding a sentence generation function to create sentences starting from a given word.\n",
    "I provided a complete example incorporating these suggestions, along with explanations for each part. If you need any more help, just let me know!"
   ]
  },
  {
   "cell_type": "markdown",
   "id": "2545a0b5",
   "metadata": {},
   "source": [
    "Question 5"
   ]
  },
  {
   "cell_type": "markdown",
   "id": "434d01f3",
   "metadata": {},
   "source": [
    "1. \n",
    "\n",
    "You initially shared a Markovian chatbot code that tracks word usage and transitions between words. I suggested improvements, including using defaultdict for cleaner code and adding functions to sample the next word and generate sentences.\n",
    "\n",
    "You then introduced an extension to track bigrams (two-word combinations) with additional dictionaries. I provided suggestions for streamlined logic and presented a complete code example that supports both unigrams and bigrams for generating sentences. If you need further help or have more extensions in mind, just let me know!"
   ]
  },
  {
   "cell_type": "markdown",
   "id": "3549618e",
   "metadata": {},
   "source": [
    "3. "
   ]
  },
  {
   "cell_type": "markdown",
   "id": "426eb263",
   "metadata": {},
   "source": [
    "Sure! Here’s a summary of our conversation:\n",
    "\n",
    "Markovian ChatBot Code: You shared a code snippet for a Markovian ChatBot that uses dictionaries to track word usage and transitions.\n",
    "Extension with Characters: You provided an extension that incorporates character context from a dataset, using bigrams (pairs of words) to track word transitions specific to each character.\n",
    "Key Enhancements Suggested:\n",
    "Organizing the code into a class structure for better organization.\n",
    "Using defaultdict for simplicity in counting occurrences.\n",
    "Adding a method for generating sentences based on character-specific contexts.\n",
    "Emphasizing the bigram concept in tracking word pairs and subsequent words.\n",
    "Revised Code: I provided a revised version of your code that enhances clarity, efficiency, and organization while maintaining focus on bigrams."
   ]
  },
  {
   "cell_type": "markdown",
   "id": "8fc8369c",
   "metadata": {},
   "source": [
    "Question 6"
   ]
  },
  {
   "cell_type": "markdown",
   "id": "51970b14",
   "metadata": {},
   "source": [
    "1. ChatGPT has been very quick and helpful in understanding the Monty Hall problem and the basics of Markovian ChatBots. This is mainly by explaining the code that was used to create them in a simplistic and intuitive fashion. It also further summarized the key points of the code to ensure I was able to understand. "
   ]
  },
  {
   "cell_type": "markdown",
   "id": "1013200d",
   "metadata": {},
   "source": [
    "2. My experience with the ChatBot has been mostly problem free during the conversations. However, there was a point where ChatGPT didn't pick up on the bigrams when I showed it extension 2, but after pointing it out, the ChatBot was able to explain the effect of its addition."
   ]
  },
  {
   "cell_type": "markdown",
   "id": "c9ee9739",
   "metadata": {},
   "source": [
    "3. I believe ChatGPT and other similar ChatBots can be incredibly helpful in a variety of situations, such as when you want it to summarize or explain text or code. It is also useful in creating or improving code with high accuracy. However, during my time using ChatBots I have realized it has trouble with very nuanced topics or providing specifics, and mainly provides generic solutions. However these situations are quite rare and the answers that ChatGPT provides is usually enough."
   ]
  },
  {
   "cell_type": "markdown",
   "id": "dd01c4e1",
   "metadata": {},
   "source": [
    "Question 7"
   ]
  },
  {
   "cell_type": "markdown",
   "id": "7b3b9f14",
   "metadata": {},
   "source": [
    "In my experience ChatGPt has been quite a valuable resource when using it during this course. This is mainly due to its ability to guide me step-by-step through the problems instead of my initial perseption of simply providing answers. I was initially under the assumption that using ChatGPT could inhibit my learning as I have to use less critical thinking, but now I am starting to believe it could help me understand concepts even better."
   ]
  },
  {
   "cell_type": "markdown",
   "id": "345c1008",
   "metadata": {},
   "source": [
    "Question 8"
   ]
  },
  {
   "cell_type": "markdown",
   "id": "2d103ded",
   "metadata": {},
   "source": [
    "3. \n",
    "In this conversation, we discussed the importance of coding and data analysis for roles in statistics and data science. While it's technically possible to have related roles without directly coding or analyzing data, such limitations would restrict career growth. Adjacent roles like project management or business analysis in the data science field might require less hands-on technical work, focusing more on communication or strategy.\n",
    "\n",
    "We then transitioned into a career exploration discussion, asking about personal interests, strengths, and long-term goals to help identify valuable skills for potential career paths."
   ]
  },
  {
   "cell_type": "markdown",
   "id": "02a4d204",
   "metadata": {},
   "source": [
    "\n",
    "4. I learned that it is important to have a strong foundation in coding and data analysis if I wanted to pursue a job in data science. I learned that I should focus on building coding related skills if I wangt to work on the technical side but its not always necessary for every position."
   ]
  },
  {
   "cell_type": "markdown",
   "id": "24768896",
   "metadata": {},
   "source": [
    "5. ChatGPT has been very hlpful but as I mentioned in question 6 part 3 it lacks a certain level of nuance thart can be felt at times."
   ]
  },
  {
   "cell_type": "markdown",
   "id": "ee724d0c",
   "metadata": {},
   "source": [
    "https://chatgpt.com/share/66ecf1dc-5214-8004-a766-4b89703d8d24"
   ]
  }
 ],
 "metadata": {
  "kernelspec": {
   "display_name": "Python 3 (ipykernel)",
   "language": "python",
   "name": "python3"
  },
  "language_info": {
   "codemirror_mode": {
    "name": "ipython",
    "version": 3
   },
   "file_extension": ".py",
   "mimetype": "text/x-python",
   "name": "python",
   "nbconvert_exporter": "python",
   "pygments_lexer": "ipython3",
   "version": "3.11.6"
  }
 },
 "nbformat": 4,
 "nbformat_minor": 5
}
